{
  "nbformat": 4,
  "nbformat_minor": 0,
  "metadata": {
    "colab": {
      "name": "268Lab1.ipynb",
      "provenance": [],
      "authorship_tag": "ABX9TyOr3zTaeZK0zT6sAbb99Sl7",
      "include_colab_link": true
    },
    "kernelspec": {
      "name": "python3",
      "display_name": "Python 3"
    }
  },
  "cells": [
    {
      "cell_type": "markdown",
      "metadata": {
        "id": "view-in-github",
        "colab_type": "text"
      },
      "source": [
        "<a href=\"https://colab.research.google.com/github/gja5132/SRA268-Spring2020/blob/master/firstLab268.ipynb\" target=\"_parent\"><img src=\"https://colab.research.google.com/assets/colab-badge.svg\" alt=\"Open In Colab\"/></a>"
      ]
    },
    {
      "cell_type": "markdown",
      "metadata": {
        "id": "AIV-7V-g5zrT",
        "colab_type": "text"
      },
      "source": [
        "### NOAA State College Area February 2019 Temperature Trend\n",
        "\n",
        "\n",
        "\n"
      ]
    },
    {
      "cell_type": "markdown",
      "metadata": {
        "id": "Zm0zZQgT52bM",
        "colab_type": "text"
      },
      "source": [
        "###Outline\n"
      ]
    },
    {
      "cell_type": "markdown",
      "metadata": {
        "id": "C27QudPv9PVc",
        "colab_type": "text"
      },
      "source": [
        "I am interested in looking at the temperature of February over the past year. My birthday is February 29th, so I would like to see the temperature trend from this past february. If the data set included 2016, it would be an interesting observation to see if the Leap Year marked a shift in temperature as well. Though 2019 is not a leap year, visualizing the maximum temperature through the month of February 2019 in theory be a good predictor of what the temperature trends in 2020, a leap year, will be."
      ]
    },
    {
      "cell_type": "markdown",
      "metadata": {
        "id": "xzNmGD4J6D5-",
        "colab_type": "text"
      },
      "source": [
        "###Sketch"
      ]
    },
    {
      "cell_type": "markdown",
      "metadata": {
        "id": "tORg_GJYQnxM",
        "colab_type": "text"
      },
      "source": [
        "![NOAA State College Area February 2019 Temperature Trend](https://raw.githubusercontent.com/gja5132/SRA268-Spring2020/master/Images/NOAA.jpg)"
      ]
    },
    {
      "cell_type": "markdown",
      "metadata": {
        "id": "uRZiCaGM6FBE",
        "colab_type": "text"
      },
      "source": [
        "###Conclusion"
      ]
    },
    {
      "cell_type": "markdown",
      "metadata": {
        "id": "w1CH4c98MwZM",
        "colab_type": "text"
      },
      "source": [
        "After looking through the temperatures throughout the month of February in 2019, there is no noticeable trend that appeared. The minimum temperature reached was 9 degrees Fahrenheit, and the maximum temperature was 58 degrees Fahrenheit. Interestingly enough, both temperatures occured during the first week of February. As the month of February went on, the only possible trend is that the temperature began to stabilize, as every week the range of maximum and minimum temperatures grew closer together."
      ]
    },
    {
      "cell_type": "markdown",
      "metadata": {
        "id": "md8tmgi8MxNS",
        "colab_type": "text"
      },
      "source": [
        "![](https://https://raw.githubusercontent.com/gja5132/SRA268-Spring2020/master/Images/SRA%20268%20Lab%201.jpg)"
      ]
    }
  ]
}
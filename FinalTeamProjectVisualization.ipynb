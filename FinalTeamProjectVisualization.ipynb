{
  "nbformat": 4,
  "nbformat_minor": 0,
  "metadata": {
    "colab": {
      "name": "FinalTeamProjectVisualization.ipynb",
      "provenance": [],
      "collapsed_sections": [],
      "include_colab_link": true
    },
    "kernelspec": {
      "name": "python3",
      "display_name": "Python 3"
    }
  },
  "cells": [
    {
      "cell_type": "markdown",
      "metadata": {
        "id": "view-in-github",
        "colab_type": "text"
      },
      "source": [
        "<a href=\"https://colab.research.google.com/github/gja5132/SRA268-Spring2020/blob/master/FinalTeamProjectVisualization.ipynb\" target=\"_parent\"><img src=\"https://colab.research.google.com/assets/colab-badge.svg\" alt=\"Open In Colab\"/></a>"
      ]
    },
    {
      "cell_type": "markdown",
      "metadata": {
        "id": "Kw5PZBtl0Ob6",
        "colab_type": "text"
      },
      "source": [
        "# Population Case Study: Census v. Estimate\n"
      ]
    },
    {
      "cell_type": "markdown",
      "metadata": {
        "id": "iXWAmSVB0Rno",
        "colab_type": "text"
      },
      "source": [
        "Contributors:\n",
        "\n",
        "\n",
        "*   Geremia Adamo\n",
        "*   Shawn Bessey\n",
        "*   Connor Moore\n",
        "\n",
        "\n"
      ]
    },
    {
      "cell_type": "markdown",
      "metadata": {
        "id": "WpaW-i5l0ZHn",
        "colab_type": "text"
      },
      "source": [
        "## Background"
      ]
    },
    {
      "cell_type": "markdown",
      "metadata": {
        "id": "E4VKsOvP0eev",
        "colab_type": "text"
      },
      "source": [
        "During the semester, as a result of the coronavirus, we have looked at plenty of data sources discussing how COVID-19 is affecting the world on the macro level, aka the global scale, as well as the micro level, by looking at COVID-19 data per state. We decided we wanted to continue looking at data relating to the United States, though rather than looking at COVID-19 data, we decided we wanted to look at Census population data and juxtapose that with population estimates for the same year. The last Census was conducted in 2010, as decided in Article 1 Section 2 of the Constitution. In order to compare data with the 2010 Census, we would have to look at a population estimate created by the Census Bureau prior to the Census of 2010 being conducted.\n",
        "Within the data set we used included many different estimates for years ranging from 2010 through 2019 including birth rate, death rate, population change, among others which we initially wanted to use, however; the data set we joined it with, did not have true values for any of that data outside of 2010, because there is not a Census conducted every year. Had there been real data for every year, our dashboard would have included an animation showing the \"True\" Census population and the population estimate every year spanning from 2010 to 2019, however; that data would be impossible to find, as it does not exist.\n",
        "This case study, not only empowered our group to feel quite comfortable using Tableau and data visualization software, but was also a good indicator of showing what we had all learned during the course of the semester. "
      ]
    },
    {
      "cell_type": "markdown",
      "metadata": {
        "id": "7d8vfcGufV0_",
        "colab_type": "text"
      },
      "source": [
        "### Goal"
      ]
    },
    {
      "cell_type": "markdown",
      "metadata": {
        "id": "e1jKSGTjfY2H",
        "colab_type": "text"
      },
      "source": [
        "The goal of our case study is to determine how accurate population estimates are as compared to the most accurate information for a given year. Our case study will focus on 2010, since that is when the last census was taken.\n",
        "\n"
      ]
    },
    {
      "cell_type": "markdown",
      "metadata": {
        "id": "GOxy_TvCfi54",
        "colab_type": "text"
      },
      "source": [
        "### Assumptions"
      ]
    },
    {
      "cell_type": "markdown",
      "metadata": {
        "id": "cw1v_1MMfnAR",
        "colab_type": "text"
      },
      "source": [
        "\n",
        "*   California has a bigger population than any state\n",
        "*   Urban states will have a bigger population than rural states\n",
        "\n",
        "*   The census is the most accurate population data \n",
        "\n",
        "*   The difference in population between census and estimate will be bigger for bigger states (California, Texas, etc.)\n",
        "*   The percentage difference between census and estimate will be more significant for smaller states\n",
        "\n",
        "*   The population ranking of states will be different between the census and estimate\n",
        "\n",
        "*   The top 5 states will be ranked the same on census and estimate\n",
        "*   The estimate for state population is done by the same agency as the census\n",
        "*   The northeast will have a bigger population than the northwest\n",
        "*   The census is not 100% accurate\n",
        "\n",
        "\n"
      ]
    },
    {
      "cell_type": "markdown",
      "metadata": {
        "id": "jKGILpu7gWr6",
        "colab_type": "text"
      },
      "source": [
        "### Data Sources"
      ]
    },
    {
      "cell_type": "markdown",
      "metadata": {
        "id": "uwCao7AtgbNn",
        "colab_type": "text"
      },
      "source": [
        "After searching for different sources for population data and population estimates for the United States, we settled on using the Census Bureau for both data sets. Every 10 years, the Census Bureau conducts the Census in order to find how many people are currently living in each town, county, state, as well as other data (which for the scope of this case study is irrelevant). \n",
        "Because the Census is only conducted once every 10 years, the Bureau has to create estimates each year in order to see population trends, and migration trends of populations whether that is leaving the country, entering the country, or moving between states. This wealth of data regarding the population, and estimates of it, using the Census for the estimated population data source, was our best bet. \n",
        "Under the state column for both sources there were estimates for regions of the United States, including Northeast, Midwest, Southeast, and Southwest. Though this data is important to have estimates of for the Census Bureau, for the scope of our case study, the only thing it did was skew our visualizations making the populations of every state look miniscule. This also occurred because the entire population of the United States was included under the States column in the 2010 Census information. In order to counteract the problems generated by the regions and entire country data, we filtered them out of our dashboard.\n",
        "Utilizing these data sources from the Census Bureau, our group was able to complete our case study and find out how accurate population estimates are. \n",
        "\n",
        "The sources were joined together using an inner join of the State column for both data sources. "
      ]
    },
    {
      "cell_type": "markdown",
      "metadata": {
        "id": "kDgSdoQUgg2Z",
        "colab_type": "text"
      },
      "source": [
        "#### Sources"
      ]
    },
    {
      "cell_type": "markdown",
      "metadata": {
        "id": "dFzYIi0Agi2_",
        "colab_type": "text"
      },
      "source": [
        "The first data set we selected to use was titled: **Population, Population Change, and Estimated Components of Population Change: April 1, 2010 to July 1, 2019**. The link to the excel source is: http://www2.census.gov/programs-surveys/popest/datasets/2010-2019/national/totals/nst-est2019-alldata.csv?#\n",
        "\n",
        "The second data set we used was titled: **Population Change and Rankings: April 1, 2010 to July 1, 2019**. The link to the excel source is: http://www2.census.gov/programs-surveys/popest/datasets/2010-2019/national/totals/nst-est2019-popchg2010_2019.csv?#"
      ]
    },
    {
      "cell_type": "markdown",
      "metadata": {
        "id": "qcFak2v7g3jt",
        "colab_type": "text"
      },
      "source": [
        "## Dashboard (5)"
      ]
    },
    {
      "cell_type": "code",
      "metadata": {
        "id": "knG79vNP0Q0u",
        "colab_type": "code",
        "outputId": "1e4696ed-5279-4845-c118-306f5bd6e2ac",
        "colab": {
          "base_uri": "https://localhost:8080/",
          "height": 844
        }
      },
      "source": [
        "import IPython\n",
        "IPython.display.HTML(\"x\")\n",
        "IPython.display.HTML(\"<div class='tableauPlaceholder' id='viz1587758997644' style='position: relative'><noscript><a href='#'><img alt=' ' src='https:&#47;&#47;public.tableau.com&#47;static&#47;images&#47;20&#47;2010CensusVEstimate&#47;Dashboard1&#47;1_rss.png' style='border: none' /></a></noscript><object class='tableauViz'  style='display:none;'><param name='host_url' value='https%3A%2F%2Fpublic.tableau.com%2F' /> <param name='embed_code_version' value='3' /> <param name='site_root' value='' /><param name='name' value='2010CensusVEstimate&#47;Dashboard1' /><param name='tabs' value='no' /><param name='toolbar' value='yes' /><param name='static_image' value='https:&#47;&#47;public.tableau.com&#47;static&#47;images&#47;20&#47;2010CensusVEstimate&#47;Dashboard1&#47;1.png' /> <param name='animate_transition' value='yes' /><param name='display_static_image' value='yes' /><param name='display_spinner' value='yes' /><param name='display_overlay' value='yes' /><param name='display_count' value='yes' /></object></div>                <script type='text/javascript'>                    var divElement = document.getElementById('viz1587758997644');                    var vizElement = divElement.getElementsByTagName('object')[0];                    if ( divElement.offsetWidth > 800 ) { vizElement.style.width='1000px';vizElement.style.height='827px';} else if ( divElement.offsetWidth > 500 ) { vizElement.style.width='1000px';vizElement.style.height='827px';} else { vizElement.style.width='100%';vizElement.style.height='727px';}                     var scriptElement = document.createElement('script');                    scriptElement.src = 'https://public.tableau.com/javascripts/api/viz_v1.js';                    vizElement.parentNode.insertBefore(scriptElement, vizElement);                </script>\")"
      ],
      "execution_count": 0,
      "outputs": [
        {
          "output_type": "execute_result",
          "data": {
            "text/html": [
              "<div class='tableauPlaceholder' id='viz1587758997644' style='position: relative'><noscript><a href='#'><img alt=' ' src='https:&#47;&#47;public.tableau.com&#47;static&#47;images&#47;20&#47;2010CensusVEstimate&#47;Dashboard1&#47;1_rss.png' style='border: none' /></a></noscript><object class='tableauViz'  style='display:none;'><param name='host_url' value='https%3A%2F%2Fpublic.tableau.com%2F' /> <param name='embed_code_version' value='3' /> <param name='site_root' value='' /><param name='name' value='2010CensusVEstimate&#47;Dashboard1' /><param name='tabs' value='no' /><param name='toolbar' value='yes' /><param name='static_image' value='https:&#47;&#47;public.tableau.com&#47;static&#47;images&#47;20&#47;2010CensusVEstimate&#47;Dashboard1&#47;1.png' /> <param name='animate_transition' value='yes' /><param name='display_static_image' value='yes' /><param name='display_spinner' value='yes' /><param name='display_overlay' value='yes' /><param name='display_count' value='yes' /></object></div>                <script type='text/javascript'>                    var divElement = document.getElementById('viz1587758997644');                    var vizElement = divElement.getElementsByTagName('object')[0];                    if ( divElement.offsetWidth > 800 ) { vizElement.style.width='1000px';vizElement.style.height='827px';} else if ( divElement.offsetWidth > 500 ) { vizElement.style.width='1000px';vizElement.style.height='827px';} else { vizElement.style.width='100%';vizElement.style.height='727px';}                     var scriptElement = document.createElement('script');                    scriptElement.src = 'https://public.tableau.com/javascripts/api/viz_v1.js';                    vizElement.parentNode.insertBefore(scriptElement, vizElement);                </script>"
            ],
            "text/plain": [
              "<IPython.core.display.HTML object>"
            ]
          },
          "metadata": {
            "tags": []
          },
          "execution_count": 7
        }
      ]
    },
    {
      "cell_type": "markdown",
      "metadata": {
        "id": "SvWfnlDjnos1",
        "colab_type": "text"
      },
      "source": [
        "## Conclusion"
      ]
    },
    {
      "cell_type": "markdown",
      "metadata": {
        "id": "rfWefr2gnxOG",
        "colab_type": "text"
      },
      "source": [
        "After gathering all of our data we can start to evaluate how many people lived in the country by state. We can also begin to compare the accuracy of the estimate to the actual population. By just looking at these two graphs, we can see that the estimate is fairly close to the actual number of people living in each state. For example, the population estimate for Pennsylvania in 2010 was 12,711,160 people and the actual population in Pennsylvania in 2010 was 12,702,379 people. Therefore, the census is in fact not 100% accurate; however, the differences are typically within the margin of error. This could possibly be due to some citizens not filling out the census for personal reasons. With that said, the Census Bureau accounts for the largest, and most accurate, representation of the population, so its data will likely produce the most accurate projections.\n",
        "\t*Per our assumptions, it comes to no surprise that California has the largest population. Considering they have some of the largest urban areas in the United States, their population density is very large. However, the margin of error for these larger states has to be larger, so their differences between reality and estimates must be larger than the smaller states. This is evident in the estimation of Texas’s population, where the census estimated 25,241,971 but the actual population would be 25,145,561. That’s a difference of a little under 100,000 versus the smaller difference of about 9,000 in the Pennsylvania estimate. Now, the physical difference may be larger in the states with the largest populations, but the percentage difference in the smaller populations is most often larger than that of the largest populations. For instance, the percentage difference in Texas’s population versus the estimate is around 0.4%, whereas the percentage difference in Alaska’s population is around 0.5%.\n",
        "\tNow, one of our assumptions stated that the ranking of states would be different in the actual population than the estimated population; we have found that assumption to be wrong. So wrong in fact, that the actual ranking and estimated ranking are exactly the same. Although, we had another assumption, stating that the top 5 states will have the same ranking in both the actual ranking and the estimated ranking; we found that assumption to be correct. The reason we believe this assumption turned out to be true was because their differences between them are so big that no state is going to gain millions of people in just 10 years. Another reason that these states are so spread out is because the major cities that are in those states. In California, their major cities include Los Angeles, San Diego, San Francisco compared to New York which only has one major city, New York. \n",
        "When comparing regions of the United States, we made an assumption that the northeastern region of the United States had a larger population than the northwest. We find that to be true. We speculate that this is again due to the amount of major cities in those regions. The northeastern cities are New York, Philadelphia, Pittsburgh, Boston, Washington D.C., etc… The northwest has only Seattle and Portland.\n",
        "As 2010 is long gone, we are currently in the midst of the 2020 census. For the 2020 census compared to the 2020 estimates, we can confidently assume our correct assumptions for the 2010 census will hold true for 2020.\n"
      ]
    },
    {
      "cell_type": "code",
      "metadata": {
        "id": "GiYDwrUYn0k0",
        "colab_type": "code",
        "colab": {}
      },
      "source": [
        ""
      ],
      "execution_count": 0,
      "outputs": []
    }
  ]
}
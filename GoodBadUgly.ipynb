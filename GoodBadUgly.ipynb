{
  "nbformat": 4,
  "nbformat_minor": 0,
  "metadata": {
    "colab": {
      "name": "GoodBadUgly.ipynb",
      "provenance": [],
      "collapsed_sections": [],
      "include_colab_link": true
    },
    "kernelspec": {
      "name": "python3",
      "display_name": "Python 3"
    }
  },
  "cells": [
    {
      "cell_type": "markdown",
      "metadata": {
        "id": "view-in-github",
        "colab_type": "text"
      },
      "source": [
        "<a href=\"https://colab.research.google.com/github/gja5132/SRA268-Spring2020/blob/master/GoodBadUgly.ipynb\" target=\"_parent\"><img src=\"https://colab.research.google.com/assets/colab-badge.svg\" alt=\"Open In Colab\"/></a>"
      ]
    },
    {
      "cell_type": "markdown",
      "metadata": {
        "id": "McYznUISBM4n",
        "colab_type": "text"
      },
      "source": [
        "# **The Good, The Bad, The Ugly**"
      ]
    },
    {
      "cell_type": "markdown",
      "metadata": {
        "id": "uDe8ObmSBR4s",
        "colab_type": "text"
      },
      "source": [
        "## **Creators**\n",
        "\n",
        "\n",
        "*   Jerry Adamo\n",
        "*   Shawn Bessey\n",
        "* Connor Moore\n",
        "\n",
        "\n"
      ]
    },
    {
      "cell_type": "markdown",
      "metadata": {
        "id": "fOB0_6KZBoV3",
        "colab_type": "text"
      },
      "source": [
        "# Original Project "
      ]
    },
    {
      "cell_type": "markdown",
      "metadata": {
        "id": "lhJk6-cMCjdm",
        "colab_type": "text"
      },
      "source": [
        "The following graph is used to show the maximum temperature in State College on the days of May 30, May 31 and June 1 in the years 2017, 2018, and 2019. This data is taken from The National Oceanic and Atmospheric Administration (NOAA). The reason for choosing these three days is to look at the temperature on the days around my birthday on May 31."
      ]
    },
    {
      "cell_type": "markdown",
      "metadata": {
        "id": "gA35zL1NCpyS",
        "colab_type": "text"
      },
      "source": [
        "![alt text](https://raw.githubusercontent.com/szb5874/SRA268-SP20/master/images/First%20Google%20Notebook.jpg)"
      ]
    },
    {
      "cell_type": "markdown",
      "metadata": {
        "id": "ZsN6UAFGCwD1",
        "colab_type": "text"
      },
      "source": [
        "As you can see the temperatures on the 30th varied while on June 1st the temperatures were fairly close together. 2018 was hotter compared to the other years with the highest temperature being 87 degrees. 2017 on May 31st recorded the lowest temperature on the graph with 70 degrees. 2020's temperatures for these day should be around the temperatures from previous years. "
      ]
    },
    {
      "cell_type": "markdown",
      "metadata": {
        "id": "iEnj_6epBwo5",
        "colab_type": "text"
      },
      "source": [
        "##Team Project 1"
      ]
    },
    {
      "cell_type": "markdown",
      "metadata": {
        "id": "JNfsJ9Rdxfp0",
        "colab_type": "text"
      },
      "source": [
        "The following graphs are used to show the maximum temperature in State College on the days of May 29, May 30, and May 31 between the time frame of 2009-2019. This data is taken from The National Oceanic and Atmospheric Administration (NOAA). The reason for choosing these three days is to look at the temperature on the days around one of our group member's birthday. The first graph displays the information in a good way, the second in a bad, intentionally misleading way, and the final in an aesthetically unappealing way."
      ]
    },
    {
      "cell_type": "markdown",
      "metadata": {
        "id": "hyxvja6nB3Fs",
        "colab_type": "text"
      },
      "source": [
        "##The Good"
      ]
    },
    {
      "cell_type": "code",
      "metadata": {
        "id": "5zuxmsJFwc8c",
        "colab_type": "code",
        "outputId": "9f2ddee0-7658-4f61-dced-d0bc56dbba41",
        "colab": {
          "base_uri": "https://localhost:8080/",
          "height": 620
        }
      },
      "source": [
        "import IPython\n",
        "IPython.display.HTML (\"<div class='tableauPlaceholder' id='viz1580912655151' style='position: relative'><noscript><a href='#'><img alt=' ' src='https:&#47;&#47;public.tableau.com&#47;static&#47;images&#47;Th&#47;TheGood&#47;Sheet3&#47;1_rss.png' style='border: none' /></a></noscript><object class='tableauViz'  style='display:none;'><param name='host_url' value='https%3A%2F%2Fpublic.tableau.com%2F' /> <param name='embed_code_version' value='3' /> <param name='site_root' value='' /><param name='name' value='TheGood&#47;Sheet3' /><param name='tabs' value='no' /><param name='toolbar' value='yes' /><param name='static_image' value='https:&#47;&#47;public.tableau.com&#47;static&#47;images&#47;Th&#47;TheGood&#47;Sheet3&#47;1.png' /> <param name='animate_transition' value='yes' /><param name='display_static_image' value='yes' /><param name='display_spinner' value='yes' /><param name='display_overlay' value='yes' /><param name='display_count' value='yes' /></object></div>                <script type='text/javascript'>                    var divElement = document.getElementById('viz1580912655151');                    var vizElement = divElement.getElementsByTagName('object')[0];                    vizElement.style.width='100%';vizElement.style.height=(divElement.offsetWidth*0.75)+'px';                    var scriptElement = document.createElement('script');                    scriptElement.src = 'https://public.tableau.com/javascripts/api/viz_v1.js';                    vizElement.parentNode.insertBefore(scriptElement, vizElement);                </script>\")"
      ],
      "execution_count": 0,
      "outputs": [
        {
          "output_type": "execute_result",
          "data": {
            "text/html": [
              "<div class='tableauPlaceholder' id='viz1580912655151' style='position: relative'><noscript><a href='#'><img alt=' ' src='https:&#47;&#47;public.tableau.com&#47;static&#47;images&#47;Th&#47;TheGood&#47;Sheet3&#47;1_rss.png' style='border: none' /></a></noscript><object class='tableauViz'  style='display:none;'><param name='host_url' value='https%3A%2F%2Fpublic.tableau.com%2F' /> <param name='embed_code_version' value='3' /> <param name='site_root' value='' /><param name='name' value='TheGood&#47;Sheet3' /><param name='tabs' value='no' /><param name='toolbar' value='yes' /><param name='static_image' value='https:&#47;&#47;public.tableau.com&#47;static&#47;images&#47;Th&#47;TheGood&#47;Sheet3&#47;1.png' /> <param name='animate_transition' value='yes' /><param name='display_static_image' value='yes' /><param name='display_spinner' value='yes' /><param name='display_overlay' value='yes' /><param name='display_count' value='yes' /></object></div>                <script type='text/javascript'>                    var divElement = document.getElementById('viz1580912655151');                    var vizElement = divElement.getElementsByTagName('object')[0];                    vizElement.style.width='100%';vizElement.style.height=(divElement.offsetWidth*0.75)+'px';                    var scriptElement = document.createElement('script');                    scriptElement.src = 'https://public.tableau.com/javascripts/api/viz_v1.js';                    vizElement.parentNode.insertBefore(scriptElement, vizElement);                </script>"
            ],
            "text/plain": [
              "<IPython.core.display.HTML object>"
            ]
          },
          "metadata": {
            "tags": []
          },
          "execution_count": 4
        }
      ]
    },
    {
      "cell_type": "markdown",
      "metadata": {
        "id": "BTC7EEUE1I7E",
        "colab_type": "text"
      },
      "source": [
        "This is our example of \"The Good.\" We used this as our \"good\" graph because it is easy to follow. We designated each day a specific color so it would be easier to track the maximum temperature as the years progressed. We also used a line graph so we could trace the maximum temperatures through the years. We used the rows for temperature and the columns for the years because it created a better visual When looking at the graph it is easy to see the temperatures for each day and easy to get an idea of the average temperature around the end of May. The retinal variables used in the good include color, and a tag for each day. These are appropriate because they clearly differentiate between the days and allow for easy intrepretation and comprehension of the data in the graph."
      ]
    },
    {
      "cell_type": "markdown",
      "metadata": {
        "id": "9EoK_SMmB4_u",
        "colab_type": "text"
      },
      "source": [
        "##The Bad"
      ]
    },
    {
      "cell_type": "code",
      "metadata": {
        "id": "bFu03RBdw0n4",
        "colab_type": "code",
        "outputId": "206a0029-fdbb-46b4-f357-5b858c6c59d9",
        "colab": {
          "base_uri": "https://localhost:8080/",
          "height": 620
        }
      },
      "source": [
        "import IPython\n",
        "IPython.display.HTML (\"<div class='tableauPlaceholder' id='viz1580913111435' style='position: relative'><noscript><a href='#'><img alt=' ' src='https:&#47;&#47;public.tableau.com&#47;static&#47;images&#47;Th&#47;TheBad_15809123716940&#47;Sheet2&#47;1_rss.png' style='border: none' /></a></noscript><object class='tableauViz'  style='display:none;'><param name='host_url' value='https%3A%2F%2Fpublic.tableau.com%2F' /> <param name='embed_code_version' value='3' /> <param name='site_root' value='' /><param name='name' value='TheBad_15809123716940&#47;Sheet2' /><param name='tabs' value='no' /><param name='toolbar' value='yes' /><param name='static_image' value='https:&#47;&#47;public.tableau.com&#47;static&#47;images&#47;Th&#47;TheBad_15809123716940&#47;Sheet2&#47;1.png' /> <param name='animate_transition' value='yes' /><param name='display_static_image' value='yes' /><param name='display_spinner' value='yes' /><param name='display_overlay' value='yes' /><param name='display_count' value='yes' /></object></div>                <script type='text/javascript'>                    var divElement = document.getElementById('viz1580913111435');                    var vizElement = divElement.getElementsByTagName('object')[0];                    vizElement.style.width='100%';vizElement.style.height=(divElement.offsetWidth*0.75)+'px';                    var scriptElement = document.createElement('script');                    scriptElement.src = 'https://public.tableau.com/javascripts/api/viz_v1.js';                    vizElement.parentNode.insertBefore(scriptElement, vizElement);                </script>\")"
      ],
      "execution_count": 0,
      "outputs": [
        {
          "output_type": "execute_result",
          "data": {
            "text/html": [
              "<div class='tableauPlaceholder' id='viz1580913111435' style='position: relative'><noscript><a href='#'><img alt=' ' src='https:&#47;&#47;public.tableau.com&#47;static&#47;images&#47;Th&#47;TheBad_15809123716940&#47;Sheet2&#47;1_rss.png' style='border: none' /></a></noscript><object class='tableauViz'  style='display:none;'><param name='host_url' value='https%3A%2F%2Fpublic.tableau.com%2F' /> <param name='embed_code_version' value='3' /> <param name='site_root' value='' /><param name='name' value='TheBad_15809123716940&#47;Sheet2' /><param name='tabs' value='no' /><param name='toolbar' value='yes' /><param name='static_image' value='https:&#47;&#47;public.tableau.com&#47;static&#47;images&#47;Th&#47;TheBad_15809123716940&#47;Sheet2&#47;1.png' /> <param name='animate_transition' value='yes' /><param name='display_static_image' value='yes' /><param name='display_spinner' value='yes' /><param name='display_overlay' value='yes' /><param name='display_count' value='yes' /></object></div>                <script type='text/javascript'>                    var divElement = document.getElementById('viz1580913111435');                    var vizElement = divElement.getElementsByTagName('object')[0];                    vizElement.style.width='100%';vizElement.style.height=(divElement.offsetWidth*0.75)+'px';                    var scriptElement = document.createElement('script');                    scriptElement.src = 'https://public.tableau.com/javascripts/api/viz_v1.js';                    vizElement.parentNode.insertBefore(scriptElement, vizElement);                </script>"
            ],
            "text/plain": [
              "<IPython.core.display.HTML object>"
            ]
          },
          "metadata": {
            "tags": []
          },
          "execution_count": 6
        }
      ]
    },
    {
      "cell_type": "markdown",
      "metadata": {
        "id": "FXAVbpqtRql3",
        "colab_type": "text"
      },
      "source": [
        "For \"The Bad\" we created a bar chart to display the maximum temperatures for the last three days in May between 2009 and 2019. This is a bad chart because it is intentionally misleading. It is intentionally misleading because rather than comparing all of the May 29ths, May 30ths, and May 31sts from 2009-2019, it adds the three temperatures up and displays the total sum temperatures from each year. The graph is encoded to be different widths for temperatures as well as different heights. This makes it more difficult to interpret the graph and intentionally misleads the viewer by showing the years with the highest total temperatures across the three days in May per year. As the days are added up, it gets more misleading because the heights are different between each bar. The retinal variables for the bad include width and color. The width is inappropriate because it distorts the graph and makes it appear harder to interpret. The color retinal variable would typically be an appropriate retinal variable for most graphs, however when paired with the bar graph and the different heights for the temperatures, it misleads the viewer of the graph by making it harder to comprehend."
      ]
    },
    {
      "cell_type": "markdown",
      "metadata": {
        "id": "iZcpYSX0B68t",
        "colab_type": "text"
      },
      "source": [
        "##The Ugly"
      ]
    },
    {
      "cell_type": "code",
      "metadata": {
        "id": "PijQYDA_w-h9",
        "colab_type": "code",
        "outputId": "f6f88146-95b5-4b1b-ef33-36985458057f",
        "colab": {
          "base_uri": "https://localhost:8080/",
          "height": 620
        }
      },
      "source": [
        "import IPython\n",
        "IPython.display.HTML (\"<div class='tableauPlaceholder' id='viz1580913161208' style='position: relative'><noscript><a href='#'><img alt=' ' src='https:&#47;&#47;public.tableau.com&#47;static&#47;images&#47;Th&#47;TheUgly&#47;Sheet1&#47;1_rss.png' style='border: none' /></a></noscript><object class='tableauViz'  style='display:none;'><param name='host_url' value='https%3A%2F%2Fpublic.tableau.com%2F' /> <param name='embed_code_version' value='3' /> <param name='site_root' value='' /><param name='name' value='TheUgly&#47;Sheet1' /><param name='tabs' value='no' /><param name='toolbar' value='yes' /><param name='static_image' value='https:&#47;&#47;public.tableau.com&#47;static&#47;images&#47;Th&#47;TheUgly&#47;Sheet1&#47;1.png' /> <param name='animate_transition' value='yes' /><param name='display_static_image' value='yes' /><param name='display_spinner' value='yes' /><param name='display_overlay' value='yes' /><param name='display_count' value='yes' /></object></div>                <script type='text/javascript'>                    var divElement = document.getElementById('viz1580913161208');                    var vizElement = divElement.getElementsByTagName('object')[0];                    vizElement.style.width='100%';vizElement.style.height=(divElement.offsetWidth*0.75)+'px';                    var scriptElement = document.createElement('script');                    scriptElement.src = 'https://public.tableau.com/javascripts/api/viz_v1.js';                    vizElement.parentNode.insertBefore(scriptElement, vizElement);                </script>\")"
      ],
      "execution_count": 0,
      "outputs": [
        {
          "output_type": "execute_result",
          "data": {
            "text/html": [
              "<div class='tableauPlaceholder' id='viz1580913161208' style='position: relative'><noscript><a href='#'><img alt=' ' src='https:&#47;&#47;public.tableau.com&#47;static&#47;images&#47;Th&#47;TheUgly&#47;Sheet1&#47;1_rss.png' style='border: none' /></a></noscript><object class='tableauViz'  style='display:none;'><param name='host_url' value='https%3A%2F%2Fpublic.tableau.com%2F' /> <param name='embed_code_version' value='3' /> <param name='site_root' value='' /><param name='name' value='TheUgly&#47;Sheet1' /><param name='tabs' value='no' /><param name='toolbar' value='yes' /><param name='static_image' value='https:&#47;&#47;public.tableau.com&#47;static&#47;images&#47;Th&#47;TheUgly&#47;Sheet1&#47;1.png' /> <param name='animate_transition' value='yes' /><param name='display_static_image' value='yes' /><param name='display_spinner' value='yes' /><param name='display_overlay' value='yes' /><param name='display_count' value='yes' /></object></div>                <script type='text/javascript'>                    var divElement = document.getElementById('viz1580913161208');                    var vizElement = divElement.getElementsByTagName('object')[0];                    vizElement.style.width='100%';vizElement.style.height=(divElement.offsetWidth*0.75)+'px';                    var scriptElement = document.createElement('script');                    scriptElement.src = 'https://public.tableau.com/javascripts/api/viz_v1.js';                    vizElement.parentNode.insertBefore(scriptElement, vizElement);                </script>"
            ],
            "text/plain": [
              "<IPython.core.display.HTML object>"
            ]
          },
          "metadata": {
            "tags": []
          },
          "execution_count": 8
        }
      ]
    },
    {
      "cell_type": "markdown",
      "metadata": {
        "id": "SpsnYdUVRrFx",
        "colab_type": "text"
      },
      "source": [
        "Ugly is statistically accurate in the data presented, but posed in a way so that it’s visuals are very unappealing and/or confusing to the viewer. Much like the “Good” visual, we decided to go with a line graph type layout, but separated it by year in multiple smaller visuals within the larger visual. The data is factually correct, but it’s represented in such a way that the viewer has trouble comparing the temperatures year-by-year. On top of that, the exact date that was added to each data point may prove to overwhelm the reader, once again differentiating the “ugly” from the “good” and “bad”. The retinal variables used are color, and tags for the ugly. The tags contribute to a visual overload that makes it difficult to interpret the information, while the color variable is appropriate."
      ]
    }
  ]
}
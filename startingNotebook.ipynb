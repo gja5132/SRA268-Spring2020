{
  "nbformat": 4,
  "nbformat_minor": 0,
  "metadata": {
    "colab": {
      "name": "startingNotebook.ipynb",
      "provenance": [],
      "authorship_tag": "ABX9TyPeGABWr6DaiXQZ+qq+Bkng",
      "include_colab_link": true
    },
    "kernelspec": {
      "name": "python3",
      "display_name": "Python 3"
    }
  },
  "cells": [
    {
      "cell_type": "markdown",
      "metadata": {
        "id": "view-in-github",
        "colab_type": "text"
      },
      "source": [
        "<a href=\"https://colab.research.google.com/github/gja5132/SRA268-Spring2020/blob/master/startingNotebook.ipynb\" target=\"_parent\"><img src=\"https://colab.research.google.com/assets/colab-badge.svg\" alt=\"Open In Colab\"/></a>"
      ]
    },
    {
      "cell_type": "code",
      "metadata": {
        "id": "gZUNwyr34q52",
        "colab_type": "code",
        "colab": {
          "base_uri": "https://localhost:8080/",
          "height": 35
        },
        "outputId": "d949d3c5-0b2a-4563-ee31-72da3c394daf"
      },
      "source": [
        "2+2"
      ],
      "execution_count": 1,
      "outputs": [
        {
          "output_type": "execute_result",
          "data": {
            "text/plain": [
              "4"
            ]
          },
          "metadata": {
            "tags": []
          },
          "execution_count": 1
        }
      ]
    },
    {
      "cell_type": "markdown",
      "metadata": {
        "id": "AIV-7V-g5zrT",
        "colab_type": "text"
      },
      "source": [
        "### NOAA State College Area Data\n"
      ]
    },
    {
      "cell_type": "markdown",
      "metadata": {
        "id": "Zm0zZQgT52bM",
        "colab_type": "text"
      },
      "source": [
        "###Outline\n"
      ]
    },
    {
      "cell_type": "markdown",
      "metadata": {
        "id": "xzNmGD4J6D5-",
        "colab_type": "text"
      },
      "source": [
        "###Sketch"
      ]
    },
    {
      "cell_type": "markdown",
      "metadata": {
        "id": "NN23sJh36auW",
        "colab_type": "text"
      },
      "source": [
        "![Image of Jack Skellington as Santa](https://raw.githubusercontent.com/gja5132/SRA268-Spring2020/master/Images/santa.jpg)"
      ]
    },
    {
      "cell_type": "markdown",
      "metadata": {
        "id": "uRZiCaGM6FBE",
        "colab_type": "text"
      },
      "source": [
        "###Conclusion"
      ]
    }
  ]
}